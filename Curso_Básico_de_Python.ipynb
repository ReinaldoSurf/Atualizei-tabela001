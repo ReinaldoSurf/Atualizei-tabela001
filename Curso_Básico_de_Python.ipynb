{
  "nbformat": 4,
  "nbformat_minor": 0,
  "metadata": {
    "colab": {
      "provenance": [],
      "mount_file_id": "1-YyGl_WkGIBOWhI2uNjjtuRHq_L0CDnb",
      "authorship_tag": "ABX9TyPOOThiNL/FE/AdTt9ekZfH",
      "include_colab_link": true
    },
    "kernelspec": {
      "name": "python3",
      "display_name": "Python 3"
    },
    "language_info": {
      "name": "python"
    }
  },
  "cells": [
    {
      "cell_type": "markdown",
      "metadata": {
        "id": "view-in-github",
        "colab_type": "text"
      },
      "source": [
        "<a href=\"https://colab.research.google.com/github/ReinaldoSurf/Atualizei-tabela001/blob/main/Curso_B%C3%A1sico_de_Python.ipynb\" target=\"_parent\"><img src=\"https://colab.research.google.com/assets/colab-badge.svg\" alt=\"Open In Colab\"/></a>"
      ]
    },
    {
      "cell_type": "code",
      "execution_count": null,
      "metadata": {
        "id": "1neiR28yP-yk"
      },
      "outputs": [],
      "source": []
    },
    {
      "cell_type": "markdown",
      "source": [],
      "metadata": {
        "id": "EANJmM9aRGHL"
      }
    },
    {
      "cell_type": "code",
      "source": [],
      "metadata": {
        "id": "Mj21QRtbRKlU"
      },
      "execution_count": null,
      "outputs": []
    },
    {
      "cell_type": "markdown",
      "source": [],
      "metadata": {
        "id": "AvVynoV-RL0e"
      }
    },
    {
      "cell_type": "code",
      "source": [],
      "metadata": {
        "id": "6LzzgMvzQrcP"
      },
      "execution_count": null,
      "outputs": []
    },
    {
      "cell_type": "markdown",
      "source": [],
      "metadata": {
        "id": "b-K1OtvjToE4"
      }
    },
    {
      "cell_type": "code",
      "source": [
        "# Passo 1 - Percorrer todos os arquivos da base de dados (Pasta vendas)\n",
        "\n",
        "from pickleshare import print_function\n",
        "import os\n",
        "lista_arquivo = os.listdir(\"/content/drive/MyDrive/\")\n",
        "\n",
        "\n",
        "\n",
        "  # passo 2 - importar a base de dados de vendas\n",
        "for arquivo in lista_arquivo:\n",
        "    print(arquivo)\n",
        "\n",
        "\n",
        "  # passo - Tratar / compilar a base de dados\n",
        "\n",
        "  # passo 4 - calcular o produto mais vendido ( em quantidade)\n",
        "\n",
        "  # passo 5 - calcular o produto que mais faturou ( em faturamento)\n",
        "\n",
        "  # passo 6 - Calcular a loja/cidade que mais vendeu em faturamento. Criar o gráfico/dashboard"
      ],
      "metadata": {
        "colab": {
          "base_uri": "https://localhost:8080/"
        },
        "id": "wH0xlGWtTs1c",
        "outputId": "bb60bd5a-c49e-4c11-e4d2-2a7ba1dc9bda"
      },
      "execution_count": 6,
      "outputs": [
        {
          "output_type": "stream",
          "name": "stdout",
          "text": [
            "Devolucoes - Belo Horizonte.csv\n",
            "Devolucoes - Curitiba.csv\n",
            "Devolucoes - Fortaleza.csv\n",
            "Devolucoes - Recife.csv\n",
            "Devolucoes - Porto Alegre.csv\n",
            "Devolucoes - Goiás.csv\n",
            "Devolucoes - Rio de Janeiro.csv\n",
            "Devolucoes - Salvador.csv\n",
            "Devolucoes - São Paulo.csv\n",
            "Vendas - Belo Horizonte.csv\n",
            "Vendas - Curitiba.csv\n",
            "Vendas - Goiás.csv\n",
            "Vendas - Fortaleza.csv\n",
            "Vendas - Porto Alegre.csv\n",
            "Vendas - Recife.csv\n",
            "Vendas - Salvador.csv\n",
            "Vendas - Rio de Janeiro.csv\n"
          ]
        }
      ]
    }
  ]
}